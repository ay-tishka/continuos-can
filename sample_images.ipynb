{
 "cells": [
  {
   "cell_type": "code",
   "execution_count": 1,
   "metadata": {},
   "outputs": [
    {
     "name": "stderr",
     "output_type": "stream",
     "text": [
      "/home/mavrinti/contgan/src/utils.py:29: FutureWarning: You are using `torch.load` with `weights_only=False` (the current default value), which uses the default pickle module implicitly. It is possible to construct malicious pickle data which will execute arbitrary code during unpickling (See https://github.com/pytorch/pytorch/blob/main/SECURITY.md#untrusted-models for more details). In a future release, the default value for `weights_only` will be flipped to `True`. This limits the functions that could be executed during unpickling. Arbitrary objects will no longer be allowed to be loaded via this mode unless they are explicitly allowlisted by the user via `torch.serialization.add_safe_globals`. We recommend you start setting `weights_only=True` for any use case where you don't have full control of the loaded file. Please open an issue on GitHub for any issues related to this experimental feature.\n",
      "  loaded_state_dict = th.load(weights_path, map_location=\"cpu\")\n"
     ]
    }
   ],
   "source": [
    "from contgan_images.contgan import ContGAN\n",
    "from contgan_images.utils import load_weights\n",
    "\n",
    "device = \"cuda:7\"\n",
    "model = ContGAN(image_shape=(3, 32, 32), decoder_type=\"fixed\")\n",
    "load_weights(model, \"model.pt\")\n",
    "\n",
    "model.to(device)\n",
    "model.eval();"
   ]
  },
  {
   "cell_type": "code",
   "execution_count": 2,
   "metadata": {},
   "outputs": [],
   "source": [
    "from contgan_images.utils import jvp\n",
    "\n",
    "import torch.nn as nn\n",
    "import torch as th\n",
    "\n",
    "from functools import partial\n",
    "\n",
    "class ODEfunc(nn.Module):\n",
    "    def __init__(self, model):\n",
    "        super().__init__()\n",
    "\n",
    "        self.model = model\n",
    "\n",
    "    def forward(self, t, x):\n",
    "        t = t.unsqueeze(0)\n",
    "        with th.no_grad():\n",
    "            x_hat, eps_hat = self.model.decoder(x_t=x, t=t)\n",
    "\n",
    "        t_ = t.detach().clone().requires_grad_()\n",
    "        encoder_ = partial(self.model.encoder, x_0=x_hat, eps=eps_hat)\n",
    "        _, x_t_hat_grad = jvp(encoder_, t_)\n",
    "\n",
    "        return x_t_hat_grad\n",
    "    \n",
    "ode_func = ODEfunc(model)"
   ]
  },
  {
   "cell_type": "code",
   "execution_count": 3,
   "metadata": {},
   "outputs": [],
   "source": [
    "from torchdiffeq import odeint_adjoint as odeint\n",
    "import numpy as np\n",
    "\n",
    "out = odeint(ode_func, th.randn((64, 3, 32, 32), device=device), th.tensor(np.linspace(1., 0., 2), device=device))\n",
    "out = (out[1].clip(-1., 1.) + 1.) / 2."
   ]
  },
  {
   "cell_type": "code",
   "execution_count": null,
   "metadata": {},
   "outputs": [],
   "source": [
    "from torchvision.utils import save_image\n",
    "\n",
    "save_image(out, \"out/ode_sample.png\")"
   ]
  },
  {
   "attachments": {},
   "cell_type": "markdown",
   "metadata": {},
   "source": [
    "---"
   ]
  }
 ],
 "metadata": {
  "kernelspec": {
   "display_name": ".venv",
   "language": "python",
   "name": "python3"
  },
  "language_info": {
   "codemirror_mode": {
    "name": "ipython",
    "version": 3
   },
   "file_extension": ".py",
   "mimetype": "text/x-python",
   "name": "python",
   "nbconvert_exporter": "python",
   "pygments_lexer": "ipython3",
   "version": "3.10.12"
  },
  "orig_nbformat": 4
 },
 "nbformat": 4,
 "nbformat_minor": 2
}
